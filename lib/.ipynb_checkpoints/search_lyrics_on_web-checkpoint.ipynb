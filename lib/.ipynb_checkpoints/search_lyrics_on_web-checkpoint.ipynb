{
 "cells": [
  {
   "cell_type": "code",
   "execution_count": null,
   "metadata": {
    "collapsed": true
   },
   "outputs": [],
   "source": [
    "# ウェブサイト(Uta-Net)から歌詞を検索\n",
    "    # https://www.uta-net.com/search/?Aselect=2&Keyword=[曲の名前]&Bselect=4 にアクセス\n",
    "    # 結果があるかないか判定\n",
    "    # ない時は「検索結果がありません」と表示してトップページにリダイレクト\n",
    "    \n",
    "    # ある時↓\n",
    "    # <td class=\"td2\">\n",
    "    # <a href=\"https://www.uta-net.com/artist/????/\">[歌手名]</a>\n",
    "    # <td>\n",
    "    # の中から歌手名だけとってきて\n",
    "    # <div id=\"kashi_area\"></div>の中身をいい感じにパース\n",
    "                        \n",
    "# 検索してヒットした歌詞ページのソースをパースしてmp3に書き込み\n",
    "# セッションの情報と共に歌詞をDBに登録"
   ]
  },
  {
   "cell_type": "code",
   "execution_count": 5,
   "metadata": {},
   "outputs": [
    {
     "name": "stdout",
     "output_type": "stream",
     "text": [
      "check\n",
      "1 test名前1 test曲名1 test歌詞1\n",
      "2 test名前2 test曲名2 test歌詞2\n",
      "3 test名前3 test曲名3 test歌詞3\n",
      "check\n",
      "1 test名前1 test曲名1 test歌詞1\n",
      "2 test名前2 test曲名2 test歌詞2\n",
      "3 test名前3 test曲名3 test歌詞3\n",
      "check\n",
      "1 test名前1 test曲名1 test歌詞1\n",
      "2 test名前2 test曲名2 test歌詞2\n",
      "3 test名前3 test曲名3 test歌詞3\n",
      "check\n",
      "1 test名前1 test曲名1 test歌詞1\n",
      "2 test名前2 test曲名2 test歌詞2\n",
      "3 test名前3 test曲名3 test歌詞3\n"
     ]
    },
    {
     "ename": "KeyboardInterrupt",
     "evalue": "",
     "output_type": "error",
     "traceback": [
      "\u001b[0;31m---------------------------------------------------------------------------\u001b[0m",
      "\u001b[0;31mKeyboardInterrupt\u001b[0m                         Traceback (most recent call last)",
      "\u001b[0;32m<ipython-input-5-550e8c2a6a78>\u001b[0m in \u001b[0;36m<module>\u001b[0;34m()\u001b[0m\n\u001b[1;32m      4\u001b[0m \u001b[0;34m\u001b[0m\u001b[0m\n\u001b[1;32m      5\u001b[0m \u001b[0;32mwhile\u001b[0m \u001b[0;32mTrue\u001b[0m\u001b[0;34m:\u001b[0m\u001b[0;34m\u001b[0m\u001b[0m\n\u001b[0;32m----> 6\u001b[0;31m     \u001b[0mtime\u001b[0m\u001b[0;34m.\u001b[0m\u001b[0msleep\u001b[0m\u001b[0;34m(\u001b[0m\u001b[0;36m5\u001b[0m\u001b[0;34m)\u001b[0m \u001b[0;31m#5秒待ってから実行\u001b[0m\u001b[0;34m\u001b[0m\u001b[0m\n\u001b[0m\u001b[1;32m      7\u001b[0m     \u001b[0mprint\u001b[0m\u001b[0;34m(\u001b[0m\u001b[0;34m\"check\"\u001b[0m\u001b[0;34m)\u001b[0m\u001b[0;34m\u001b[0m\u001b[0m\n\u001b[1;32m      8\u001b[0m \u001b[0;34m\u001b[0m\u001b[0m\n",
      "\u001b[0;31mKeyboardInterrupt\u001b[0m: "
     ]
    }
   ],
   "source": [
    "# 無限ループの中で任意秒待つためのモジュール\n",
    "import time\n",
    "# MySQLに接続するためのモジュール\n",
    "import mysql.connector\n",
    "# ウェブサイトからHTMLを取ってくるためのモジュール\n",
    "import urllib\n",
    "# 曲名で検索した結果を表示してる画面のURL\n",
    "searchedByTitleURL = https://www.uta-net.com/search/?Aselect=2&Keyword=[曲の名前]&Bselect=4\n",
    "\n",
    "\n",
    "while True:\n",
    "    time.sleep(5) #5秒待ってから実行\n",
    "    print(\"check\")\n",
    "    \n",
    "    # DBに接続する\n",
    "    connection = mysql.connector.connect(user='root', host='localhost', database='lyrics_database')\n",
    "    # カーソルを取得する\n",
    "    cursor = connection.cursor()\n",
    "    # クエリの実行\n",
    "    cursor.execute(\n",
    "        \"SELECT singer.id, singer.name, song.title, song.lyric \" +\n",
    "        \"FROM song \" +\n",
    "        \"INNER JOIN singer_song ON singer_song.song_id = song.id \" +\n",
    "        \"INNER JOIN composer ON composer.id = song.composer_id \" +\n",
    "        \"INNER JOIN singer ON singer.id = singer_song.singer_id;\"\n",
    "    )\n",
    "    # 実行結果をすべて取得\n",
    "    rows = cursor.fetchall()\n",
    "    \n",
    "    for row in rows:\n",
    "        lyrics = row[3]\n",
    "        # 歌詞がNULLの時は歌詞をweb(Uta-Net)に取りに行く\n",
    "        if lyrics is None:\n",
    "            # まずは歌詞で検索\n",
    "            # HTMLファイルを開く\n",
    "            data = urllib.request.urlopen(searchedByTitleURL)\n",
    "            # HTMLの取得\n",
    "            html = data.read()\n",
    "            # HTMLファイルを閉じる\n",
    "            data.close()\n",
    "            \n",
    "        print(row[0], row[1], row[2], row[3]) #確認用\n",
    "    \n",
    "    \n",
    "    cursor.close\n",
    "    connection.close"
   ]
  },
  {
   "cell_type": "code",
   "execution_count": null,
   "metadata": {
    "collapsed": true
   },
   "outputs": [],
   "source": []
  }
 ],
 "metadata": {
  "kernelspec": {
   "display_name": "Python 3",
   "language": "python",
   "name": "python3"
  },
  "language_info": {
   "codemirror_mode": {
    "name": "ipython",
    "version": 3
   },
   "file_extension": ".py",
   "mimetype": "text/x-python",
   "name": "python",
   "nbconvert_exporter": "python",
   "pygments_lexer": "ipython3",
   "version": "3.6.2"
  }
 },
 "nbformat": 4,
 "nbformat_minor": 2
}
